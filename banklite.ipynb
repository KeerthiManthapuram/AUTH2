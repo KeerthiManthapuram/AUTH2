{
  "nbformat": 4,
  "nbformat_minor": 0,
  "metadata": {
    "colab": {
      "provenance": [],
      "authorship_tag": "ABX9TyMfFBunBgX2khN8K5DfBnD/",
      "include_colab_link": true
    },
    "kernelspec": {
      "name": "python3",
      "display_name": "Python 3"
    },
    "language_info": {
      "name": "python"
    }
  },
  "cells": [
    {
      "cell_type": "markdown",
      "metadata": {
        "id": "view-in-github",
        "colab_type": "text"
      },
      "source": [
        "<a href=\"https://colab.research.google.com/github/KeerthiManthapuram/AUTH2/blob/main/banklite.ipynb\" target=\"_parent\"><img src=\"https://colab.research.google.com/assets/colab-badge.svg\" alt=\"Open In Colab\"/></a>"
      ]
    },
    {
      "cell_type": "markdown",
      "source": [],
      "metadata": {
        "id": "f7obUwy-kOeV"
      }
    },
    {
      "cell_type": "markdown",
      "source": [
        "# BankLite - Console Banking System  \n",
        "\n",
        "This project simulates a simple banking system where users can:\n",
        "- Create accounts  \n",
        "- Deposit / Withdraw money  \n",
        "- Check balances  \n",
        "- View transaction history  \n",
        "- Save & load data from `bank.json`  \n",
        "\n",
        "Implemented using **Python OOP**.\n"
      ],
      "metadata": {
        "id": "TrGEOP0jkSRF"
      }
    },
    {
      "cell_type": "code",
      "source": [
        "import json\n",
        "import os\n",
        "from datetime import datetime\n",
        "\n",
        "class Account:\n",
        "    def __init__(self, acc_id, name, balance=0):\n",
        "        self.id = acc_id\n",
        "        self.name = name\n",
        "        self.balance = balance\n",
        "        self.transactions = []\n",
        "\n",
        "    def deposit(self, amount):\n",
        "        if amount <= 0:\n",
        "            print(\"Deposit amount must be positive.\")\n",
        "            return False\n",
        "        self.balance += amount\n",
        "        log = f\"{datetime.now()} - Deposited {amount}. Balance: {self.balance}\"\n",
        "        self.transactions.append(log)\n",
        "        return True\n",
        "\n",
        "    def withdraw(self, amount):\n",
        "        if amount <= 0:\n",
        "            print(\"Withdrawal amount must be positive.\")\n",
        "            return False\n",
        "        if amount > self.balance:\n",
        "            print(\"Insufficient funds.\")\n",
        "            return False\n",
        "        self.balance -= amount\n",
        "        log = f\"{datetime.now()} - Withdrew {amount}. Balance: {self.balance}\"\n",
        "        self.transactions.append(log)\n",
        "        return True\n",
        "\n",
        "    def get_balance(self):\n",
        "        return self.balance\n",
        "\n",
        "    def get_history(self):\n",
        "        return self.transactions\n",
        "\n",
        "    def to_dict(self):\n",
        "        return {\n",
        "            \"id\": self.id,\n",
        "            \"name\": self.name,\n",
        "            \"balance\": self.balance,\n",
        "            \"transactions\": self.transactions\n",
        "        }\n",
        "\n",
        "    @classmethod\n",
        "    def from_dict(cls, data):\n",
        "        acc = cls(data[\"id\"], data[\"name\"], data[\"balance\"])\n",
        "        acc.transactions = data.get(\"transactions\", [])\n",
        "        return acc\n"
      ],
      "metadata": {
        "id": "may7-49TkUpI"
      },
      "execution_count": 1,
      "outputs": []
    },
    {
      "cell_type": "code",
      "source": [
        "class Bank:\n",
        "    def __init__(self):\n",
        "        self.accounts = []\n",
        "\n",
        "    def create_account(self, name, start_balance=0):\n",
        "        acc_id = len(self.accounts) + 1\n",
        "        account = Account(acc_id, name, start_balance)\n",
        "        self.accounts.append(account)\n",
        "        print(f\"Account created successfully! ID: {acc_id}\")\n",
        "        return account\n",
        "\n",
        "    def find_account_by_id(self, acc_id):\n",
        "        for acc in self.accounts:\n",
        "            if acc.id == acc_id:\n",
        "                return acc\n",
        "        return None\n",
        "\n",
        "    def deposit_to_account(self, acc_id, amount):\n",
        "        acc = self.find_account_by_id(acc_id)\n",
        "        if acc:\n",
        "            return acc.deposit(amount)\n",
        "        print(\"Account not found.\")\n",
        "        return False\n",
        "\n",
        "    def withdraw_from_account(self, acc_id, amount):\n",
        "        acc = self.find_account_by_id(acc_id)\n",
        "        if acc:\n",
        "            return acc.withdraw(amount)\n",
        "        print(\"Account not found.\")\n",
        "        return False\n",
        "\n",
        "    def show_account_details(self, acc_id):\n",
        "        acc = self.find_account_by_id(acc_id)\n",
        "        if acc:\n",
        "            print(f\"Account ID: {acc.id}, Name: {acc.name}, Balance: {acc.balance}\")\n",
        "            print(\"Transaction History:\")\n",
        "            for t in acc.get_history():\n",
        "                print(t)\n",
        "        else:\n",
        "            print(\"Account not found.\")\n",
        "\n",
        "    def save_to_file(self, filename=\"bank.json\"):\n",
        "        data = [acc.to_dict() for acc in self.accounts]\n",
        "        with open(filename, \"w\") as f:\n",
        "            json.dump(data, f, indent=4)\n",
        "        print(\"Data saved to bank.json\")\n",
        "\n",
        "    def load_from_file(self, filename=\"bank.json\"):\n",
        "        if not os.path.exists(filename):\n",
        "            print(\"No previous data found.\")\n",
        "            return\n",
        "        with open(filename, \"r\") as f:\n",
        "            data = json.load(f)\n",
        "            self.accounts = [Account.from_dict(acc) for acc in data]\n",
        "        print(\"Data loaded from bank.json\")\n"
      ],
      "metadata": {
        "id": "X_KSY7mLkY86"
      },
      "execution_count": 2,
      "outputs": []
    },
    {
      "cell_type": "code",
      "source": [
        "# Initialize bank\n",
        "bank = Bank()\n",
        "bank.load_from_file()\n",
        "\n",
        "# Create accounts\n",
        "acc1 = bank.create_account(\"Alice\", 500)\n",
        "acc2 = bank.create_account(\"Bob\", 1000)\n",
        "\n",
        "# Perform transactions\n",
        "bank.deposit_to_account(1, 200)\n",
        "bank.withdraw_from_account(2, 300)\n",
        "\n",
        "# Show account details\n",
        "bank.show_account_details(1)\n",
        "bank.show_account_details(2)\n",
        "\n",
        "# Save data\n",
        "bank.save_to_file()\n"
      ],
      "metadata": {
        "colab": {
          "base_uri": "https://localhost:8080/"
        },
        "id": "K1sdv44VkcES",
        "outputId": "92880a10-d752-48f2-81d9-f72253d1a447"
      },
      "execution_count": 3,
      "outputs": [
        {
          "output_type": "stream",
          "name": "stdout",
          "text": [
            "No previous data found.\n",
            "Account created successfully! ID: 1\n",
            "Account created successfully! ID: 2\n",
            "Account ID: 1, Name: Alice, Balance: 700\n",
            "Transaction History:\n",
            "2025-08-21 17:00:07.800507 - Deposited 200. Balance: 700\n",
            "Account ID: 2, Name: Bob, Balance: 700\n",
            "Transaction History:\n",
            "2025-08-21 17:00:07.800584 - Withdrew 300. Balance: 700\n",
            "Data saved to bank.json\n"
          ]
        }
      ]
    },
    {
      "cell_type": "code",
      "source": [
        "# Reload bank data from file\n",
        "bank2 = Bank()\n",
        "bank2.load_from_file()\n",
        "\n",
        "# Show details again to verify persistence\n",
        "bank2.show_account_details(1)\n",
        "bank2.show_account_details(2)\n"
      ],
      "metadata": {
        "colab": {
          "base_uri": "https://localhost:8080/"
        },
        "id": "RChuRnXdkgGM",
        "outputId": "db52e999-c120-4e5b-bf93-56ff0dd038c2"
      },
      "execution_count": 4,
      "outputs": [
        {
          "output_type": "stream",
          "name": "stdout",
          "text": [
            "Data loaded from bank.json\n",
            "Account ID: 1, Name: Alice, Balance: 700\n",
            "Transaction History:\n",
            "2025-08-21 17:00:07.800507 - Deposited 200. Balance: 700\n",
            "Account ID: 2, Name: Bob, Balance: 700\n",
            "Transaction History:\n",
            "2025-08-21 17:00:07.800584 - Withdrew 300. Balance: 700\n"
          ]
        }
      ]
    }
  ]
}